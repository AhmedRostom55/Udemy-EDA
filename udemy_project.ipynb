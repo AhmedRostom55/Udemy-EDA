{
 "cells": [
  {
   "cell_type": "markdown",
   "id": "9720c303",
   "metadata": {},
   "source": [
    "# Udemy Courses Final Project"
   ]
  },
  {
   "cell_type": "code",
   "execution_count": null,
   "id": "0a601f73",
   "metadata": {},
   "outputs": [],
   "source": []
  },
  {
   "cell_type": "markdown",
   "id": "e8fd5d46",
   "metadata": {},
   "source": [
    "## Importing Libraries"
   ]
  },
  {
   "cell_type": "code",
   "execution_count": 1,
   "id": "0cdead2a",
   "metadata": {},
   "outputs": [],
   "source": [
    "import numpy as np\n",
    "import pandas as pd\n",
    "import matplotlib.pyplot as plt\n",
    "import seaborn as sns"
   ]
  },
  {
   "cell_type": "code",
   "execution_count": null,
   "id": "6e755ac2",
   "metadata": {},
   "outputs": [],
   "source": []
  },
  {
   "cell_type": "markdown",
   "id": "ff19b97b",
   "metadata": {},
   "source": [
    "## Loading & Inspecting Data"
   ]
  },
  {
   "cell_type": "code",
   "execution_count": 52,
   "id": "a67c1b5a",
   "metadata": {},
   "outputs": [
    {
     "data": {
      "text/html": [
       "<div>\n",
       "<style scoped>\n",
       "    .dataframe tbody tr th:only-of-type {\n",
       "        vertical-align: middle;\n",
       "    }\n",
       "\n",
       "    .dataframe tbody tr th {\n",
       "        vertical-align: top;\n",
       "    }\n",
       "\n",
       "    .dataframe thead th {\n",
       "        text-align: right;\n",
       "    }\n",
       "</style>\n",
       "<table border=\"1\" class=\"dataframe\">\n",
       "  <thead>\n",
       "    <tr style=\"text-align: right;\">\n",
       "      <th></th>\n",
       "      <th>course_id</th>\n",
       "      <th>course_title</th>\n",
       "      <th>url</th>\n",
       "      <th>is_paid</th>\n",
       "      <th>price</th>\n",
       "      <th>num_subscribers</th>\n",
       "      <th>num_reviews</th>\n",
       "      <th>num_lectures</th>\n",
       "      <th>level</th>\n",
       "      <th>content_duration</th>\n",
       "      <th>published_timestamp</th>\n",
       "      <th>subject</th>\n",
       "      <th>profit</th>\n",
       "      <th>published_date</th>\n",
       "      <th>published_time</th>\n",
       "      <th>year</th>\n",
       "      <th>month</th>\n",
       "      <th>day</th>\n",
       "    </tr>\n",
       "  </thead>\n",
       "  <tbody>\n",
       "    <tr>\n",
       "      <th>850</th>\n",
       "      <td>364206</td>\n",
       "      <td>Media Training for Financial Service Professio...</td>\n",
       "      <td>https://www.udemy.com/media-training-for-finan...</td>\n",
       "      <td>True</td>\n",
       "      <td>20</td>\n",
       "      <td>1254</td>\n",
       "      <td>2</td>\n",
       "      <td>64</td>\n",
       "      <td>All Levels</td>\n",
       "      <td>7 hours</td>\n",
       "      <td>2014-12-11T21:14:18Z</td>\n",
       "      <td>Business Finance</td>\n",
       "      <td>25080</td>\n",
       "      <td>2014-12-11</td>\n",
       "      <td>21:14:18Z</td>\n",
       "      <td>2014</td>\n",
       "      <td>12</td>\n",
       "      <td>11</td>\n",
       "    </tr>\n",
       "    <tr>\n",
       "      <th>3085</th>\n",
       "      <td>846832</td>\n",
       "      <td>So you think you know JavaScript?</td>\n",
       "      <td>https://www.udemy.com/so-you-think-you-know-ja...</td>\n",
       "      <td>True</td>\n",
       "      <td>50</td>\n",
       "      <td>1010</td>\n",
       "      <td>154</td>\n",
       "      <td>25</td>\n",
       "      <td>All Levels</td>\n",
       "      <td>6 hours</td>\n",
       "      <td>2016-05-12T14:52:32Z</td>\n",
       "      <td>Web Development</td>\n",
       "      <td>50500</td>\n",
       "      <td>2016-05-12</td>\n",
       "      <td>14:52:32Z</td>\n",
       "      <td>2016</td>\n",
       "      <td>5</td>\n",
       "      <td>12</td>\n",
       "    </tr>\n",
       "  </tbody>\n",
       "</table>\n",
       "</div>"
      ],
      "text/plain": [
       "      course_id                                       course_title  \\\n",
       "850      364206  Media Training for Financial Service Professio...   \n",
       "3085     846832                  So you think you know JavaScript?   \n",
       "\n",
       "                                                    url  is_paid  price  \\\n",
       "850   https://www.udemy.com/media-training-for-finan...     True     20   \n",
       "3085  https://www.udemy.com/so-you-think-you-know-ja...     True     50   \n",
       "\n",
       "      num_subscribers  num_reviews  num_lectures       level content_duration  \\\n",
       "850              1254            2            64  All Levels          7 hours   \n",
       "3085             1010          154            25  All Levels          6 hours   \n",
       "\n",
       "       published_timestamp           subject  profit published_date  \\\n",
       "850   2014-12-11T21:14:18Z  Business Finance   25080     2014-12-11   \n",
       "3085  2016-05-12T14:52:32Z   Web Development   50500     2016-05-12   \n",
       "\n",
       "     published_time  year  month  day  \n",
       "850       21:14:18Z  2014     12   11  \n",
       "3085      14:52:32Z  2016      5   12  "
      ]
     },
     "execution_count": 52,
     "metadata": {},
     "output_type": "execute_result"
    }
   ],
   "source": [
    "df = pd.read_csv(\"udemy_courses.csv\")\n",
    "df.sample(2)"
   ]
  },
  {
   "cell_type": "code",
   "execution_count": 5,
   "id": "e1953091",
   "metadata": {},
   "outputs": [
    {
     "name": "stdout",
     "output_type": "stream",
     "text": [
      "<class 'pandas.core.frame.DataFrame'>\n",
      "RangeIndex: 3683 entries, 0 to 3682\n",
      "Data columns (total 18 columns):\n",
      " #   Column               Non-Null Count  Dtype \n",
      "---  ------               --------------  ----- \n",
      " 0   course_id            3683 non-null   int64 \n",
      " 1   course_title         3683 non-null   object\n",
      " 2   url                  3683 non-null   object\n",
      " 3   is_paid              3683 non-null   bool  \n",
      " 4   price                3683 non-null   int64 \n",
      " 5   num_subscribers      3683 non-null   int64 \n",
      " 6   num_reviews          3683 non-null   int64 \n",
      " 7   num_lectures         3683 non-null   int64 \n",
      " 8   level                3683 non-null   object\n",
      " 9   content_duration     3683 non-null   object\n",
      " 10  published_timestamp  3683 non-null   object\n",
      " 11  subject              3683 non-null   object\n",
      " 12  profit               3683 non-null   int64 \n",
      " 13  published_date       3683 non-null   object\n",
      " 14  published_time       3682 non-null   object\n",
      " 15  year                 3683 non-null   int64 \n",
      " 16  month                3683 non-null   int64 \n",
      " 17  day                  3683 non-null   int64 \n",
      "dtypes: bool(1), int64(9), object(8)\n",
      "memory usage: 492.9+ KB\n"
     ]
    }
   ],
   "source": [
    "df.info()"
   ]
  },
  {
   "cell_type": "code",
   "execution_count": 7,
   "id": "6330e8e1",
   "metadata": {},
   "outputs": [
    {
     "data": {
      "text/html": [
       "<div>\n",
       "<style scoped>\n",
       "    .dataframe tbody tr th:only-of-type {\n",
       "        vertical-align: middle;\n",
       "    }\n",
       "\n",
       "    .dataframe tbody tr th {\n",
       "        vertical-align: top;\n",
       "    }\n",
       "\n",
       "    .dataframe thead th {\n",
       "        text-align: right;\n",
       "    }\n",
       "</style>\n",
       "<table border=\"1\" class=\"dataframe\">\n",
       "  <thead>\n",
       "    <tr style=\"text-align: right;\">\n",
       "      <th></th>\n",
       "      <th>price</th>\n",
       "      <th>num_subscribers</th>\n",
       "      <th>num_reviews</th>\n",
       "      <th>num_lectures</th>\n",
       "      <th>profit</th>\n",
       "    </tr>\n",
       "  </thead>\n",
       "  <tbody>\n",
       "    <tr>\n",
       "      <th>count</th>\n",
       "      <td>3683.00</td>\n",
       "      <td>3683.00</td>\n",
       "      <td>3683.00</td>\n",
       "      <td>3683.00</td>\n",
       "      <td>3683.00</td>\n",
       "    </tr>\n",
       "    <tr>\n",
       "      <th>mean</th>\n",
       "      <td>65.99</td>\n",
       "      <td>3193.37</td>\n",
       "      <td>156.45</td>\n",
       "      <td>40.06</td>\n",
       "      <td>240288.46</td>\n",
       "    </tr>\n",
       "    <tr>\n",
       "      <th>std</th>\n",
       "      <td>60.99</td>\n",
       "      <td>9498.23</td>\n",
       "      <td>935.08</td>\n",
       "      <td>50.37</td>\n",
       "      <td>1000759.56</td>\n",
       "    </tr>\n",
       "    <tr>\n",
       "      <th>min</th>\n",
       "      <td>0.00</td>\n",
       "      <td>0.00</td>\n",
       "      <td>0.00</td>\n",
       "      <td>0.00</td>\n",
       "      <td>0.00</td>\n",
       "    </tr>\n",
       "    <tr>\n",
       "      <th>25%</th>\n",
       "      <td>20.00</td>\n",
       "      <td>110.00</td>\n",
       "      <td>4.00</td>\n",
       "      <td>15.00</td>\n",
       "      <td>1567.50</td>\n",
       "    </tr>\n",
       "    <tr>\n",
       "      <th>50%</th>\n",
       "      <td>45.00</td>\n",
       "      <td>911.00</td>\n",
       "      <td>18.00</td>\n",
       "      <td>25.00</td>\n",
       "      <td>23050.00</td>\n",
       "    </tr>\n",
       "    <tr>\n",
       "      <th>75%</th>\n",
       "      <td>95.00</td>\n",
       "      <td>2537.50</td>\n",
       "      <td>67.00</td>\n",
       "      <td>45.00</td>\n",
       "      <td>118260.00</td>\n",
       "    </tr>\n",
       "    <tr>\n",
       "      <th>max</th>\n",
       "      <td>200.00</td>\n",
       "      <td>268923.00</td>\n",
       "      <td>27445.00</td>\n",
       "      <td>779.00</td>\n",
       "      <td>24316800.00</td>\n",
       "    </tr>\n",
       "  </tbody>\n",
       "</table>\n",
       "</div>"
      ],
      "text/plain": [
       "         price  num_subscribers  num_reviews  num_lectures       profit\n",
       "count  3683.00          3683.00      3683.00       3683.00      3683.00\n",
       "mean     65.99          3193.37       156.45         40.06    240288.46\n",
       "std      60.99          9498.23       935.08         50.37   1000759.56\n",
       "min       0.00             0.00         0.00          0.00         0.00\n",
       "25%      20.00           110.00         4.00         15.00      1567.50\n",
       "50%      45.00           911.00        18.00         25.00     23050.00\n",
       "75%      95.00          2537.50        67.00         45.00    118260.00\n",
       "max     200.00        268923.00     27445.00        779.00  24316800.00"
      ]
     },
     "execution_count": 7,
     "metadata": {},
     "output_type": "execute_result"
    }
   ],
   "source": [
    "df[['price','num_subscribers','num_reviews','num_lectures','profit']].describe().round(2)"
   ]
  },
  {
   "cell_type": "markdown",
   "id": "6713c882",
   "metadata": {},
   "source": [
    "---"
   ]
  },
  {
   "cell_type": "markdown",
   "id": "1479a9da",
   "metadata": {},
   "source": [
    "## Exploratory Data Analysis (EDA)"
   ]
  },
  {
   "cell_type": "markdown",
   "id": "83484ee1",
   "metadata": {},
   "source": [
    "- Univariate / Bi-Variate / Multi-Variate Analysis "
   ]
  },
  {
   "cell_type": "markdown",
   "id": "0121e8d5",
   "metadata": {},
   "source": []
  },
  {
   "cell_type": "markdown",
   "id": "60ed7e95",
   "metadata": {},
   "source": [
    "- ***Course Title***\n",
    "    - What is the most frequent words in course title\n",
    "    - Longest/Shortest course title\n",
    "    - Most famous courses by number of subscribers"
   ]
  },
  {
   "cell_type": "markdown",
   "id": "c34d9cf5",
   "metadata": {},
   "source": [
    "##### Number of unique course titles"
   ]
  },
  {
   "cell_type": "code",
   "execution_count": 9,
   "id": "e6fdc79a",
   "metadata": {
    "scrolled": true
   },
   "outputs": [
    {
     "data": {
      "text/plain": [
       "3668"
      ]
     },
     "execution_count": 9,
     "metadata": {},
     "output_type": "execute_result"
    }
   ],
   "source": [
    "df['course_title'].nunique()"
   ]
  },
  {
   "cell_type": "markdown",
   "id": "a35cfd9b",
   "metadata": {},
   "source": [
    "##### The most frequent words in course title"
   ]
  },
  {
   "cell_type": "code",
   "execution_count": 28,
   "id": "cdb30c22",
   "metadata": {},
   "outputs": [
    {
     "data": {
      "text/plain": [
       "-               672\n",
       "to              639\n",
       "Learn           493\n",
       "for             432\n",
       "and             410\n",
       "               ... \n",
       "Fantail           1\n",
       "Ships             1\n",
       "Illustrator!      1\n",
       "Reilly            1\n",
       "Websites:         1\n",
       "Length: 5430, dtype: int64"
      ]
     },
     "execution_count": 28,
     "metadata": {},
     "output_type": "execute_result"
    }
   ],
   "source": [
    "df['course_title'].str.split(expand=True).stack().value_counts()"
   ]
  },
  {
   "cell_type": "markdown",
   "id": "c75c0ecf",
   "metadata": {},
   "source": [
    "##### Longest/Shortest course title"
   ]
  },
  {
   "cell_type": "code",
   "execution_count": 32,
   "id": "1c83d63f",
   "metadata": {},
   "outputs": [
    {
     "data": {
      "text/plain": [
       "243"
      ]
     },
     "execution_count": 32,
     "metadata": {},
     "output_type": "execute_result"
    }
   ],
   "source": [
    "df['course_title'].str.len().max()"
   ]
  },
  {
   "cell_type": "code",
   "execution_count": 33,
   "id": "769caf22",
   "metadata": {},
   "outputs": [
    {
     "data": {
      "text/plain": [
       "6"
      ]
     },
     "execution_count": 33,
     "metadata": {},
     "output_type": "execute_result"
    }
   ],
   "source": [
    "df['course_title'].str.len().min()"
   ]
  },
  {
   "cell_type": "code",
   "execution_count": 37,
   "id": "85f392f8",
   "metadata": {},
   "outputs": [
    {
     "data": {
      "text/plain": [
       "'Aprende a tocar el Acordeón \\'de oído y con técnica\",https://www.udemy.com/aprende-a-tocar-el-acordeon-de-oido-y-con-tecnica/,true,25,93,21,34,Beginner Level,4 hours,2014-09-16T19:51:45Z\\n263432,Aprende los Secretos de la Armónica con HARP&SOUL\"'"
      ]
     },
     "execution_count": 37,
     "metadata": {},
     "output_type": "execute_result"
    }
   ],
   "source": [
    "df.iloc[df['course_title'].str.len().idxmax()]['course_title']"
   ]
  },
  {
   "cell_type": "code",
   "execution_count": 38,
   "id": "c6f0ac46",
   "metadata": {},
   "outputs": [
    {
     "data": {
      "text/plain": [
       "'调色高级讲解'"
      ]
     },
     "execution_count": 38,
     "metadata": {},
     "output_type": "execute_result"
    }
   ],
   "source": [
    "df.iloc[df['course_title'].str.len().idxmin()]['course_title']"
   ]
  },
  {
   "cell_type": "markdown",
   "id": "57160ff9",
   "metadata": {},
   "source": [
    "##### Most famous course titles by number of subscribers"
   ]
  },
  {
   "cell_type": "code",
   "execution_count": 43,
   "id": "7f5bab24",
   "metadata": {},
   "outputs": [
    {
     "data": {
      "text/plain": [
       "2832                 Learn HTML5 Programming From Scratch\n",
       "3037                       Coding for Entrepreneurs Basic\n",
       "3235                           The Web Developer Bootcamp\n",
       "2788    Build Your First Website in 1 Week with HTML5 ...\n",
       "3237                The Complete Web Developer Course 2.0\n",
       "Name: course_title, dtype: object"
      ]
     },
     "execution_count": 43,
     "metadata": {},
     "output_type": "execute_result"
    }
   ],
   "source": [
    "df.sort_values(by='num_subscribers', ascending=False)['course_title'].head(5)"
   ]
  },
  {
   "cell_type": "code",
   "execution_count": null,
   "id": "ecf54bf0",
   "metadata": {},
   "outputs": [],
   "source": []
  },
  {
   "cell_type": "markdown",
   "id": "8afe9738",
   "metadata": {},
   "source": [
    "---"
   ]
  },
  {
   "cell_type": "markdown",
   "id": "1d859ff6",
   "metadata": {},
   "source": [
    "+ ***Subjects / Category***\n",
    "    - How many courses per subject\n",
    "    - Which subject is the most popular\n",
    "    - Distribution of subjects per year\n",
    "    - How many people purchase a particular subject"
   ]
  },
  {
   "cell_type": "markdown",
   "id": "698a48b7",
   "metadata": {},
   "source": [
    "##### Number of courses per subjects"
   ]
  },
  {
   "cell_type": "code",
   "execution_count": 19,
   "id": "e9120e3f",
   "metadata": {},
   "outputs": [
    {
     "data": {
      "text/plain": [
       "Web Development        1200\n",
       "Business Finance       1199\n",
       "Musical Instruments     681\n",
       "Graphic Design          603\n",
       "Name: subject, dtype: int64"
      ]
     },
     "execution_count": 19,
     "metadata": {},
     "output_type": "execute_result"
    }
   ],
   "source": [
    "df['subject'].value_counts()"
   ]
  },
  {
   "cell_type": "code",
   "execution_count": 26,
   "id": "65f11932",
   "metadata": {},
   "outputs": [
    {
     "name": "stderr",
     "output_type": "stream",
     "text": [
      "C:\\ProgramData\\Anaconda3\\lib\\site-packages\\seaborn\\_decorators.py:36: FutureWarning: Pass the following variable as a keyword arg: x. From version 0.12, the only valid positional argument will be `data`, and passing other arguments without an explicit keyword will result in an error or misinterpretation.\n",
      "  warnings.warn(\n"
     ]
    },
    {
     "data": {
      "text/plain": [
       "<AxesSubplot:xlabel='subject', ylabel='count'>"
      ]
     },
     "execution_count": 26,
     "metadata": {},
     "output_type": "execute_result"
    },
    {
     "data": {
      "image/png": "[encoded data removed]",
      "text/plain": [
       "<Figure size 720x360 with 1 Axes>"
      ]
     },
     "metadata": {
      "needs_background": "light"
     },
     "output_type": "display_data"
    }
   ],
   "source": [
    "plt.figure(figsize=(10,5))\n",
    "sns.countplot(df['subject'],palette='plasma')"
   ]
  },
  {
   "cell_type": "markdown",
   "id": "dc382758",
   "metadata": {},
   "source": [
    "##### Number of subscribers per subject"
   ]
  },
  {
   "cell_type": "code",
   "execution_count": 23,
   "id": "026c04bf",
   "metadata": {},
   "outputs": [
    {
     "data": {
      "text/plain": [
       "subject\n",
       "Business Finance       1870747\n",
       "Graphic Design         1063148\n",
       "Musical Instruments     846719\n",
       "Web Development        7980572\n",
       "Name: num_subscribers, dtype: int64"
      ]
     },
     "execution_count": 23,
     "metadata": {},
     "output_type": "execute_result"
    }
   ],
   "source": [
    "df.groupby('subject')['num_subscribers'].sum()"
   ]
  },
  {
   "cell_type": "code",
   "execution_count": 45,
   "id": "97ff983b",
   "metadata": {},
   "outputs": [
    {
     "data": {
      "text/plain": [
       "<AxesSubplot:xlabel='subject'>"
      ]
     },
     "execution_count": 45,
     "metadata": {},
     "output_type": "execute_result"
    },
    {
     "data": {
      "image/png": "[encoded data removed]",
      "text/plain": [
       "<Figure size 720x360 with 1 Axes>"
      ]
     },
     "metadata": {
      "needs_background": "light"
     },
     "output_type": "display_data"
    }
   ],
   "source": [
    "plt.figure(figsize=(10,5))\n",
    "sns.barplot(x=df.groupby('subject')['num_subscribers'].sum().index,\n",
    "            y=df.groupby('subject')['num_subscribers'].sum().values,\n",
    "            palette='rainbow')"
   ]
  },
  {
   "cell_type": "markdown",
   "id": "ee0bee6d",
   "metadata": {},
   "source": [
    "##### Number of subscribers per year"
   ]
  },
  {
   "cell_type": "code",
   "execution_count": 49,
   "id": "87a38f33",
   "metadata": {},
   "outputs": [
    {
     "data": {
      "text/plain": [
       "year\n",
       "2011     119028\n",
       "2012     555339\n",
       "2013    1723438\n",
       "2014    1930406\n",
       "2015    3475324\n",
       "2016    2966644\n",
       "2017     991007\n",
       "Name: num_subscribers, dtype: int64"
      ]
     },
     "execution_count": 49,
     "metadata": {},
     "output_type": "execute_result"
    }
   ],
   "source": [
    "df.groupby('year')['num_subscribers'].sum()"
   ]
  },
  {
   "cell_type": "code",
   "execution_count": 51,
   "id": "f12c9212",
   "metadata": {},
   "outputs": [
    {
     "data": {
      "text/plain": [
       "<AxesSubplot:ylabel='num_subscribers'>"
      ]
     },
     "execution_count": 51,
     "metadata": {},
     "output_type": "execute_result"
    },
    {
     "data": {
      "image/png": "[encoded data removed]",
      "text/plain": [
       "<Figure size 432x288 with 1 Axes>"
      ]
     },
     "metadata": {},
     "output_type": "display_data"
    }
   ],
   "source": [
    "df.groupby('year')['num_subscribers'].sum().plot(kind='pie')"
   ]
  },
  {
   "cell_type": "markdown",
   "id": "3a7ef842",
   "metadata": {},
   "source": [
    "##### Number of people purchased course titled: \"So you think you know JavaScript?\""
   ]
  },
  {
   "cell_type": "code",
   "execution_count": 55,
   "id": "a5b9d936",
   "metadata": {},
   "outputs": [
    {
     "data": {
      "text/plain": [
       "array([1010], dtype=int64)"
      ]
     },
     "execution_count": 55,
     "metadata": {},
     "output_type": "execute_result"
    }
   ],
   "source": [
    "df[df['course_title'] == 'So you think you know JavaScript?']['num_subscribers'].values"
   ]
  },
  {
   "cell_type": "code",
   "execution_count": null,
   "id": "a13356dc",
   "metadata": {},
   "outputs": [],
   "source": []
  },
  {
   "cell_type": "markdown",
   "id": "f1662eff",
   "metadata": {},
   "source": [
    "---"
   ]
  },
  {
   "cell_type": "markdown",
   "id": "545937a1",
   "metadata": {},
   "source": [
    "+ ***Levels***\n",
    "    - How many levels do we have\n",
    "    - What is the distribution of courses per levels\n",
    "    - Which subject have the highest levels\n",
    "    - How many subscribers per levels\n",
    "    - How many courses per levels"
   ]
  },
  {
   "cell_type": "markdown",
   "id": "e90ebd4f",
   "metadata": {},
   "source": [
    "##### How many levels do we have?"
   ]
  },
  {
   "cell_type": "code",
   "execution_count": 94,
   "id": "8ad5de91",
   "metadata": {},
   "outputs": [
    {
     "data": {
      "text/plain": [
       "All Levels            1932\n",
       "Beginner Level        1271\n",
       "Intermediate Level     421\n",
       "Expert Level            58\n",
       "Name: level, dtype: int64"
      ]
     },
     "execution_count": 94,
     "metadata": {},
     "output_type": "execute_result"
    }
   ],
   "source": [
    "df['level'].value_counts()"
   ]
  },
  {
   "cell_type": "code",
   "execution_count": 95,
   "id": "1a5d7105",
   "metadata": {},
   "outputs": [],
   "source": [
    "# Drop invalid record '52'\n",
    "df.drop(df[df['level'] == '52'].index, axis=0, inplace=True)"
   ]
  },
  {
   "cell_type": "code",
   "execution_count": 61,
   "id": "169ed254",
   "metadata": {},
   "outputs": [
    {
     "data": {
      "text/plain": [
       "<AxesSubplot:xlabel='level', ylabel='count'>"
      ]
     },
     "execution_count": 61,
     "metadata": {},
     "output_type": "execute_result"
    },
    {
     "data": {
      "image/png": "[encoded data removed]",
      "text/plain": [
       "<Figure size 720x360 with 1 Axes>"
      ]
     },
     "metadata": {
      "needs_background": "light"
     },
     "output_type": "display_data"
    }
   ],
   "source": [
    "plt.figure(figsize=(10,5))\n",
    "sns.countplot(df['level'])"
   ]
  },
  {
   "cell_type": "markdown",
   "id": "d2f401f3",
   "metadata": {},
   "source": [
    "##### How many levels per subject category"
   ]
  },
  {
   "cell_type": "code",
   "execution_count": 66,
   "id": "86b6b2f3",
   "metadata": {},
   "outputs": [
    {
     "data": {
      "text/plain": [
       "subject\n",
       "Business Finance       1199\n",
       "Graphic Design          603\n",
       "Musical Instruments     681\n",
       "Web Development        1200\n",
       "Name: level, dtype: int64"
      ]
     },
     "execution_count": 66,
     "metadata": {},
     "output_type": "execute_result"
    }
   ],
   "source": [
    "df.groupby(['subject'])['level'].count()"
   ]
  },
  {
   "cell_type": "code",
   "execution_count": 64,
   "id": "e2f32d33",
   "metadata": {},
   "outputs": [
    {
     "data": {
      "text/plain": [
       "<AxesSubplot:xlabel='subject'>"
      ]
     },
     "execution_count": 64,
     "metadata": {},
     "output_type": "execute_result"
    },
    {
     "data": {
      "image/png": "[encoded data removed]",
      "text/plain": [
       "<Figure size 720x360 with 1 Axes>"
      ]
     },
     "metadata": {
      "needs_background": "light"
     },
     "output_type": "display_data"
    }
   ],
   "source": [
    "plt.figure(figsize=(10,5))\n",
    "sns.barplot(x=df.groupby(['subject'])['level'].count().index,\n",
    "            y=df.groupby(['subject'])['level'].count().values,\n",
    "            palette='rainbow')"
   ]
  },
  {
   "cell_type": "markdown",
   "id": "b6bf51f1",
   "metadata": {},
   "source": [
    "##### Number of levels per subject category"
   ]
  },
  {
   "cell_type": "code",
   "execution_count": 72,
   "id": "b6147ce6",
   "metadata": {},
   "outputs": [
    {
     "data": {
      "text/plain": [
       "subject              level             \n",
       "Business Finance     All Levels            699\n",
       "                     Beginner Level        341\n",
       "                     Intermediate Level    128\n",
       "                     Expert Level           31\n",
       "Graphic Design       All Levels            298\n",
       "                     Beginner Level        243\n",
       "                     Intermediate Level     57\n",
       "                     Expert Level            5\n",
       "Musical Instruments  Beginner Level        296\n",
       "                     All Levels            276\n",
       "                     Intermediate Level    101\n",
       "                     Expert Level            7\n",
       "                     52                      1\n",
       "Web Development      All Levels            659\n",
       "                     Beginner Level        391\n",
       "                     Intermediate Level    135\n",
       "                     Expert Level           15\n",
       "Name: level, dtype: int64"
      ]
     },
     "execution_count": 72,
     "metadata": {},
     "output_type": "execute_result"
    }
   ],
   "source": [
    "df.groupby(['subject'])['level'].value_counts()"
   ]
  },
  {
   "cell_type": "code",
   "execution_count": 74,
   "id": "90b05bd3",
   "metadata": {},
   "outputs": [
    {
     "data": {
      "text/plain": [
       "array([699, 341, 128,  31, 298, 243,  57,   5, 296, 276, 101,   7,   1,\n",
       "       659, 391, 135,  15], dtype=int64)"
      ]
     },
     "execution_count": 74,
     "metadata": {},
     "output_type": "execute_result"
    }
   ],
   "source": [
    "df.groupby(['subject'])['level'].value_counts().values"
   ]
  },
  {
   "cell_type": "code",
   "execution_count": 75,
   "id": "088aae14",
   "metadata": {},
   "outputs": [
    {
     "data": {
      "text/plain": [
       "MultiIndex([(   'Business Finance',         'All Levels'),\n",
       "            (   'Business Finance',     'Beginner Level'),\n",
       "            (   'Business Finance', 'Intermediate Level'),\n",
       "            (   'Business Finance',       'Expert Level'),\n",
       "            (     'Graphic Design',         'All Levels'),\n",
       "            (     'Graphic Design',     'Beginner Level'),\n",
       "            (     'Graphic Design', 'Intermediate Level'),\n",
       "            (     'Graphic Design',       'Expert Level'),\n",
       "            ('Musical Instruments',     'Beginner Level'),\n",
       "            ('Musical Instruments',         'All Levels'),\n",
       "            ('Musical Instruments', 'Intermediate Level'),\n",
       "            ('Musical Instruments',       'Expert Level'),\n",
       "            ('Musical Instruments',                 '52'),\n",
       "            (    'Web Development',         'All Levels'),\n",
       "            (    'Web Development',     'Beginner Level'),\n",
       "            (    'Web Development', 'Intermediate Level'),\n",
       "            (    'Web Development',       'Expert Level')],\n",
       "           names=['subject', 'level'])"
      ]
     },
     "execution_count": 75,
     "metadata": {},
     "output_type": "execute_result"
    }
   ],
   "source": [
    "df.groupby(['subject'])['level'].value_counts().index"
   ]
  },
  {
   "cell_type": "code",
   "execution_count": 80,
   "id": "4c9acf2f",
   "metadata": {},
   "outputs": [
    {
     "data": {
      "text/plain": [
       "Text(0, 0.5, 'Count of Levels')"
      ]
     },
     "execution_count": 80,
     "metadata": {},
     "output_type": "execute_result"
    },
    {
     "data": {
      "image/png": "[encoded data removed]",
      "text/plain": [
       "<Figure size 1080x504 with 1 Axes>"
      ]
     },
     "metadata": {
      "needs_background": "light"
     },
     "output_type": "display_data"
    }
   ],
   "source": [
    "plt.figure(figsize=(15,7))\n",
    "df.groupby(['subject'])['level'].value_counts().plot(kind = 'bar')\n",
    "plt.xlabel('Subject Category',fontsize = 16)\n",
    "plt.ylabel('Count of Levels',fontsize = 16)"
   ]
  },
  {
   "cell_type": "markdown",
   "id": "9d1a757a",
   "metadata": {},
   "source": [
    "##### Number of levels and subscribers count"
   ]
  },
  {
   "cell_type": "code",
   "execution_count": 84,
   "id": "cb9abe79",
   "metadata": {},
   "outputs": [
    {
     "data": {
      "image/png": "[encoded data removed]",
      "text/plain": [
       "<Figure size 1152x648 with 1 Axes>"
      ]
     },
     "metadata": {
      "needs_background": "light"
     },
     "output_type": "display_data"
    }
   ],
   "source": [
    "plt.figure(figsize=(16,9))\n",
    "sns.barplot(x='level', y='num_subscribers', hue='subject', data=df)\n",
    "plt.xlabel('Level',fontsize = 12)\n",
    "plt.ylabel('Subscribers Count',fontsize = 12)\n",
    "plt.xticks(rotation = 'vertical')\n",
    "plt.show()"
   ]
  },
  {
   "cell_type": "markdown",
   "id": "8b9349c8",
   "metadata": {},
   "source": [
    "##### Number of levels and number of lectures count"
   ]
  },
  {
   "cell_type": "code",
   "execution_count": 97,
   "id": "6844f8fb",
   "metadata": {},
   "outputs": [
    {
     "data": {
      "image/png": "[encoded data removed]",
      "text/plain": [
       "<Figure size 1152x648 with 1 Axes>"
      ]
     },
     "metadata": {
      "needs_background": "light"
     },
     "output_type": "display_data"
    }
   ],
   "source": [
    "plt.figure(figsize=(16,9))\n",
    "sns.barplot(x='level', y='num_lectures', hue='subject', data=df)\n",
    "plt.xlabel('Level',fontsize = 12)\n",
    "plt.ylabel('Lectures Count',fontsize = 12)\n",
    "plt.xticks(rotation = 'vertical')\n",
    "plt.show()"
   ]
  },
  {
   "cell_type": "code",
   "execution_count": 96,
   "id": "182f099b",
   "metadata": {},
   "outputs": [
    {
     "data": {
      "image/png": "[encoded data removed]",
      "text/plain": [
       "<Figure size 1152x648 with 1 Axes>"
      ]
     },
     "metadata": {
      "needs_background": "light"
     },
     "output_type": "display_data"
    }
   ],
   "source": [
    "plt.figure(figsize=(16,9))\n",
    "sns.barplot(x='level', y='num_reviews', hue='subject', data=df)\n",
    "plt.xlabel('Level',fontsize = 12)\n",
    "plt.ylabel('Reviews Count',fontsize = 12)\n",
    "plt.xticks(rotation = 'vertical')\n",
    "plt.show()"
   ]
  },
  {
   "cell_type": "code",
   "execution_count": null,
   "id": "6a8e3bed",
   "metadata": {},
   "outputs": [],
   "source": []
  },
  {
   "cell_type": "markdown",
   "id": "c2c36b27",
   "metadata": {},
   "source": [
    "---"
   ]
  },
  {
   "cell_type": "markdown",
   "id": "8fdd2aad",
   "metadata": {},
   "source": [
    "+ ***Price***\n",
    "\t- What is the average price of a course\n",
    "\t- What is the min/max price\n",
    "\t- How much does Udemy earn\n",
    "\t- The most profitable courses"
   ]
  },
  {
   "cell_type": "markdown",
   "id": "be05fc7b",
   "metadata": {},
   "source": [
    "##### All available prices"
   ]
  },
  {
   "cell_type": "code",
   "execution_count": 102,
   "id": "19d2767f",
   "metadata": {},
   "outputs": [
    {
     "data": {
      "text/plain": [
       "array([200,  75,  45,  95, 150,  65, 195,  30,  20,  50, 175, 140, 115,\n",
       "       190, 125,  60, 145, 105, 155, 185, 180, 120,  25, 160,  40,   0,\n",
       "       100,  90,  35,  80,  70,  55, 165, 130,  85, 170, 110, 135],\n",
       "      dtype=int64)"
      ]
     },
     "execution_count": 102,
     "metadata": {},
     "output_type": "execute_result"
    }
   ],
   "source": [
    "df['price'].unique()"
   ]
  },
  {
   "cell_type": "markdown",
   "id": "91ba0efe",
   "metadata": {},
   "source": [
    "##### How many courses in each price"
   ]
  },
  {
   "cell_type": "code",
   "execution_count": 146,
   "id": "c6fad99f",
   "metadata": {},
   "outputs": [],
   "source": [
    "# df['price'].value_counts()"
   ]
  },
  {
   "cell_type": "code",
   "execution_count": 103,
   "id": "db6ad8c2",
   "metadata": {},
   "outputs": [
    {
     "data": {
      "text/plain": [
       "<AxesSubplot:>"
      ]
     },
     "execution_count": 103,
     "metadata": {},
     "output_type": "execute_result"
    },
    {
     "data": {
      "image/png": "[encoded data removed]",
      "text/plain": [
       "<Figure size 1080x504 with 1 Axes>"
      ]
     },
     "metadata": {
      "needs_background": "light"
     },
     "output_type": "display_data"
    }
   ],
   "source": [
    "plt.figure(figsize=(15,7))\n",
    "df['price'].value_counts().plot(kind = 'bar',color = 'violet')"
   ]
  },
  {
   "cell_type": "markdown",
   "id": "9cce5cf1",
   "metadata": {},
   "source": [
    "##### The most / least profitable course"
   ]
  },
  {
   "cell_type": "code",
   "execution_count": 108,
   "id": "5d5bdf97",
   "metadata": {},
   "outputs": [
    {
     "data": {
      "text/html": [
       "<div>\n",
       "<style scoped>\n",
       "    .dataframe tbody tr th:only-of-type {\n",
       "        vertical-align: middle;\n",
       "    }\n",
       "\n",
       "    .dataframe tbody tr th {\n",
       "        vertical-align: top;\n",
       "    }\n",
       "\n",
       "    .dataframe thead th {\n",
       "        text-align: right;\n",
       "    }\n",
       "</style>\n",
       "<table border=\"1\" class=\"dataframe\">\n",
       "  <thead>\n",
       "    <tr style=\"text-align: right;\">\n",
       "      <th></th>\n",
       "      <th>course_id</th>\n",
       "      <th>course_title</th>\n",
       "      <th>url</th>\n",
       "      <th>is_paid</th>\n",
       "      <th>price</th>\n",
       "      <th>num_subscribers</th>\n",
       "      <th>num_reviews</th>\n",
       "      <th>num_lectures</th>\n",
       "      <th>level</th>\n",
       "      <th>content_duration</th>\n",
       "      <th>published_timestamp</th>\n",
       "      <th>subject</th>\n",
       "      <th>profit</th>\n",
       "      <th>published_date</th>\n",
       "      <th>published_time</th>\n",
       "      <th>year</th>\n",
       "      <th>month</th>\n",
       "      <th>day</th>\n",
       "    </tr>\n",
       "  </thead>\n",
       "  <tbody>\n",
       "    <tr>\n",
       "      <th>3235</th>\n",
       "      <td>625204</td>\n",
       "      <td>The Web Developer Bootcamp</td>\n",
       "      <td>https://www.udemy.com/the-web-developer-bootcamp/</td>\n",
       "      <td>True</td>\n",
       "      <td>200</td>\n",
       "      <td>121584</td>\n",
       "      <td>27445</td>\n",
       "      <td>342</td>\n",
       "      <td>All Levels</td>\n",
       "      <td>43 hours</td>\n",
       "      <td>2015-11-02T21:13:27Z</td>\n",
       "      <td>Web Development</td>\n",
       "      <td>24316800</td>\n",
       "      <td>2015-11-02</td>\n",
       "      <td>21:13:27Z</td>\n",
       "      <td>2015</td>\n",
       "      <td>11</td>\n",
       "      <td>2</td>\n",
       "    </tr>\n",
       "  </tbody>\n",
       "</table>\n",
       "</div>"
      ],
      "text/plain": [
       "      course_id                course_title  \\\n",
       "3235     625204  The Web Developer Bootcamp   \n",
       "\n",
       "                                                    url  is_paid  price  \\\n",
       "3235  https://www.udemy.com/the-web-developer-bootcamp/     True    200   \n",
       "\n",
       "      num_subscribers  num_reviews  num_lectures       level content_duration  \\\n",
       "3235           121584        27445           342  All Levels         43 hours   \n",
       "\n",
       "       published_timestamp          subject    profit published_date  \\\n",
       "3235  2015-11-02T21:13:27Z  Web Development  24316800     2015-11-02   \n",
       "\n",
       "     published_time  year  month  day  \n",
       "3235      21:13:27Z  2015     11    2  "
      ]
     },
     "execution_count": 108,
     "metadata": {},
     "output_type": "execute_result"
    }
   ],
   "source": [
    "df[df['profit']==df['profit'].max()]"
   ]
  },
  {
   "cell_type": "code",
   "execution_count": 124,
   "id": "49a823d5",
   "metadata": {},
   "outputs": [
    {
     "data": {
      "text/html": [
       "<div>\n",
       "<style scoped>\n",
       "    .dataframe tbody tr th:only-of-type {\n",
       "        vertical-align: middle;\n",
       "    }\n",
       "\n",
       "    .dataframe tbody tr th {\n",
       "        vertical-align: top;\n",
       "    }\n",
       "\n",
       "    .dataframe thead th {\n",
       "        text-align: right;\n",
       "    }\n",
       "</style>\n",
       "<table border=\"1\" class=\"dataframe\">\n",
       "  <thead>\n",
       "    <tr style=\"text-align: right;\">\n",
       "      <th></th>\n",
       "      <th>course_id</th>\n",
       "      <th>course_title</th>\n",
       "      <th>url</th>\n",
       "      <th>is_paid</th>\n",
       "      <th>price</th>\n",
       "      <th>num_subscribers</th>\n",
       "      <th>num_reviews</th>\n",
       "      <th>num_lectures</th>\n",
       "      <th>level</th>\n",
       "      <th>content_duration</th>\n",
       "      <th>published_timestamp</th>\n",
       "      <th>subject</th>\n",
       "      <th>profit</th>\n",
       "      <th>published_date</th>\n",
       "      <th>published_time</th>\n",
       "      <th>year</th>\n",
       "      <th>month</th>\n",
       "      <th>day</th>\n",
       "    </tr>\n",
       "  </thead>\n",
       "  <tbody>\n",
       "    <tr>\n",
       "      <th>455</th>\n",
       "      <td>837322</td>\n",
       "      <td>Essentials of money value: Get a financial Life !</td>\n",
       "      <td>https://www.udemy.com/essentials-of-money-value/</td>\n",
       "      <td>True</td>\n",
       "      <td>20</td>\n",
       "      <td>0</td>\n",
       "      <td>0</td>\n",
       "      <td>20</td>\n",
       "      <td>All Levels</td>\n",
       "      <td>37 mins</td>\n",
       "      <td>2016-05-16T18:28:30Z</td>\n",
       "      <td>Business Finance</td>\n",
       "      <td>0</td>\n",
       "      <td>2016-05-16</td>\n",
       "      <td>18:28:30Z</td>\n",
       "      <td>2016</td>\n",
       "      <td>5</td>\n",
       "      <td>16</td>\n",
       "    </tr>\n",
       "  </tbody>\n",
       "</table>\n",
       "</div>"
      ],
      "text/plain": [
       "    course_id                                       course_title  \\\n",
       "455    837322  Essentials of money value: Get a financial Life !   \n",
       "\n",
       "                                                  url is_paid price  \\\n",
       "455  https://www.udemy.com/essentials-of-money-value/    True    20   \n",
       "\n",
       "    num_subscribers num_reviews num_lectures       level content_duration  \\\n",
       "455               0           0           20  All Levels          37 mins   \n",
       "\n",
       "      published_timestamp           subject profit published_date  \\\n",
       "455  2016-05-16T18:28:30Z  Business Finance      0     2016-05-16   \n",
       "\n",
       "    published_time  year month day  \n",
       "455      18:28:30Z  2016     5  16  "
      ]
     },
     "execution_count": 124,
     "metadata": {},
     "output_type": "execute_result"
    }
   ],
   "source": [
    "df.iloc[df[(df['price']==20)]['profit'].idxmin()].to_frame().T"
   ]
  },
  {
   "cell_type": "code",
   "execution_count": null,
   "id": "509e8982",
   "metadata": {},
   "outputs": [],
   "source": []
  },
  {
   "cell_type": "code",
   "execution_count": 141,
   "id": "cb27c139",
   "metadata": {},
   "outputs": [
    {
     "data": {
      "text/plain": [
       "True     3372\n",
       "False     310\n",
       "Name: is_paid, dtype: int64"
      ]
     },
     "execution_count": 141,
     "metadata": {},
     "output_type": "execute_result"
    }
   ],
   "source": [
    "df['is_paid'].value_counts()"
   ]
  },
  {
   "cell_type": "code",
   "execution_count": 144,
   "id": "44192c37",
   "metadata": {},
   "outputs": [
    {
     "data": {
      "text/plain": [
       "<AxesSubplot:xlabel='is_paid', ylabel='count'>"
      ]
     },
     "execution_count": 144,
     "metadata": {},
     "output_type": "execute_result"
    },
    {
     "data": {
      "image/png": "[encoded data removed]",
      "text/plain": [
       "<Figure size 432x288 with 1 Axes>"
      ]
     },
     "metadata": {
      "needs_background": "light"
     },
     "output_type": "display_data"
    }
   ],
   "source": [
    "sns.countplot(x = 'is_paid',data=df,palette='Set1')"
   ]
  },
  {
   "cell_type": "code",
   "execution_count": null,
   "id": "876647c6",
   "metadata": {},
   "outputs": [],
   "source": []
  },
  {
   "cell_type": "code",
   "execution_count": 145,
   "id": "663608f3",
   "metadata": {},
   "outputs": [
    {
     "data": {
      "text/plain": [
       "is_paid  subject            \n",
       "False    Web Development         133\n",
       "         Business Finance         96\n",
       "         Musical Instruments      46\n",
       "         Graphic Design           35\n",
       "True     Business Finance       1103\n",
       "         Web Development        1067\n",
       "         Musical Instruments     634\n",
       "         Graphic Design          568\n",
       "Name: subject, dtype: int64"
      ]
     },
     "execution_count": 145,
     "metadata": {},
     "output_type": "execute_result"
    }
   ],
   "source": [
    "df.groupby(['is_paid'])['subject'].value_counts()"
   ]
  },
  {
   "cell_type": "code",
   "execution_count": 148,
   "id": "86ddbc81",
   "metadata": {},
   "outputs": [
    {
     "data": {
      "text/plain": [
       "Text(0, 0.5, 'Count of Courses')"
      ]
     },
     "execution_count": 148,
     "metadata": {},
     "output_type": "execute_result"
    },
    {
     "data": {
      "image/png": "[encoded data removed]",
      "text/plain": [
       "<Figure size 1080x504 with 1 Axes>"
      ]
     },
     "metadata": {
      "needs_background": "light"
     },
     "output_type": "display_data"
    }
   ],
   "source": [
    "plt.figure(figsize=(15,7))\n",
    "df.groupby(['is_paid'])['subject'].value_counts().plot(kind = 'bar')\n",
    "plt.xlabel('Paid / Free',fontsize = 16)\n",
    "plt.ylabel('Count of Courses',fontsize = 16)"
   ]
  },
  {
   "cell_type": "code",
   "execution_count": null,
   "id": "1d1a1b50",
   "metadata": {},
   "outputs": [],
   "source": []
  },
  {
   "cell_type": "markdown",
   "id": "dcdbb71a",
   "metadata": {},
   "source": [
    "---"
   ]
  },
  {
   "cell_type": "markdown",
   "id": "3d767478",
   "metadata": {},
   "source": [
    "- ***Time***"
   ]
  },
  {
   "cell_type": "markdown",
   "id": "ce0b1f17",
   "metadata": {},
   "source": [
    "##### Profit year wise"
   ]
  },
  {
   "cell_type": "code",
   "execution_count": 159,
   "id": "1d5e2407",
   "metadata": {},
   "outputs": [
    {
     "data": {
      "text/plain": [
       "year\n",
       "2011     11643420\n",
       "2012     11773470\n",
       "2013     72652195\n",
       "2014    106939045\n",
       "2015    314510395\n",
       "2016    276633190\n",
       "2017     90830680\n",
       "Name: profit, dtype: int64"
      ]
     },
     "execution_count": 159,
     "metadata": {},
     "output_type": "execute_result"
    }
   ],
   "source": [
    "df.groupby(['year'])['profit'].sum()"
   ]
  },
  {
   "cell_type": "code",
   "execution_count": 160,
   "id": "bdb9f976",
   "metadata": {
    "scrolled": true
   },
   "outputs": [
    {
     "data": {
      "text/plain": [
       "Text(0, 0.5, 'Profit')"
      ]
     },
     "execution_count": 160,
     "metadata": {},
     "output_type": "execute_result"
    },
    {
     "data": {
      "image/png": "[encoded data removed]",
      "text/plain": [
       "<Figure size 1080x504 with 1 Axes>"
      ]
     },
     "metadata": {
      "needs_background": "light"
     },
     "output_type": "display_data"
    }
   ],
   "source": [
    "plt.figure(figsize=(15,7))\n",
    "df.groupby(['year'])['profit'].sum().plot(kind = 'bar')\n",
    "plt.xlabel('Year',fontsize = 12)\n",
    "plt.ylabel('Profit',fontsize = 12)"
   ]
  },
  {
   "cell_type": "markdown",
   "id": "5833cf8e",
   "metadata": {},
   "source": [
    "##### Number of subscribers per year"
   ]
  },
  {
   "cell_type": "code",
   "execution_count": 169,
   "id": "84d81174",
   "metadata": {},
   "outputs": [
    {
     "data": {
      "text/plain": [
       "Text(0, 0.5, 'Subscribers')"
      ]
     },
     "execution_count": 169,
     "metadata": {},
     "output_type": "execute_result"
    },
    {
     "data": {
      "image/png": "[encoded data removed]",
      "text/plain": [
       "<Figure size 1080x504 with 1 Axes>"
      ]
     },
     "metadata": {
      "needs_background": "light"
     },
     "output_type": "display_data"
    }
   ],
   "source": [
    "plt.figure(figsize=(15,7))\n",
    "df.groupby(['year'])['num_subscribers'].sum().plot(kind = 'bar')\n",
    "plt.xlabel('Year',fontsize = 12)\n",
    "plt.ylabel('Subscribers',fontsize = 12)"
   ]
  },
  {
   "cell_type": "markdown",
   "id": "0ba72477",
   "metadata": {},
   "source": [
    "##### Profit month wise year 2015"
   ]
  },
  {
   "cell_type": "code",
   "execution_count": 165,
   "id": "47997c21",
   "metadata": {},
   "outputs": [
    {
     "data": {
      "text/plain": [
       "month\n",
       "1     12004455\n",
       "2     18219190\n",
       "3     29182065\n",
       "4     16701795\n",
       "5      9772990\n",
       "6     17398250\n",
       "7     26023760\n",
       "8     48955570\n",
       "9     26729945\n",
       "10    28091660\n",
       "11    54669190\n",
       "12    26761525\n",
       "Name: profit, dtype: int64"
      ]
     },
     "execution_count": 165,
     "metadata": {},
     "output_type": "execute_result"
    }
   ],
   "source": [
    "df[df['year'] == 2015].groupby(['month'])['profit'].sum()"
   ]
  },
  {
   "cell_type": "code",
   "execution_count": 167,
   "id": "0e4584ea",
   "metadata": {},
   "outputs": [
    {
     "data": {
      "text/plain": [
       "Text(0, 0.5, 'Profit')"
      ]
     },
     "execution_count": 167,
     "metadata": {},
     "output_type": "execute_result"
    },
    {
     "data": {
      "image/png": "[encoded data removed]",
      "text/plain": [
       "<Figure size 1080x504 with 1 Axes>"
      ]
     },
     "metadata": {
      "needs_background": "light"
     },
     "output_type": "display_data"
    }
   ],
   "source": [
    "plt.figure(figsize=(15,7))\n",
    "df.groupby(['month'])['profit'].sum().plot(kind = 'bar')\n",
    "plt.xlabel('Month',fontsize = 12)\n",
    "plt.ylabel('Profit',fontsize = 12)"
   ]
  },
  {
   "cell_type": "code",
   "execution_count": null,
   "id": "6bd9ade2",
   "metadata": {},
   "outputs": [],
   "source": []
  },
  {
   "cell_type": "code",
   "execution_count": null,
   "id": "a25e7f91",
   "metadata": {},
   "outputs": [],
   "source": []
  },
  {
   "cell_type": "markdown",
   "id": "d6e32692",
   "metadata": {},
   "source": [
    "---"
   ]
  },
  {
   "cell_type": "markdown",
   "id": "14e55d0c",
   "metadata": {},
   "source": [
    "- ***Correlation***"
   ]
  },
  {
   "cell_type": "code",
   "execution_count": 128,
   "id": "68aa4dd2",
   "metadata": {},
   "outputs": [
    {
     "data": {
      "text/plain": [
       "<AxesSubplot:>"
      ]
     },
     "execution_count": 128,
     "metadata": {},
     "output_type": "execute_result"
    },
    {
     "data": {
      "image/png": "[encoded data removed]",
      "text/plain": [
       "<Figure size 864x576 with 2 Axes>"
      ]
     },
     "metadata": {
      "needs_background": "light"
     },
     "output_type": "display_data"
    }
   ],
   "source": [
    "plt.figure(figsize=(12,8))\n",
    "sns.heatmap(df.corr(),annot=True)"
   ]
  },
  {
   "cell_type": "code",
   "execution_count": null,
   "id": "a49d2ce5",
   "metadata": {},
   "outputs": [],
   "source": []
  },
  {
   "cell_type": "markdown",
   "id": "a3bdebfb",
   "metadata": {},
   "source": [
    "---"
   ]
  },
  {
   "cell_type": "markdown",
   "id": "0397d459",
   "metadata": {},
   "source": [
    "# THANK YOU!"
   ]
  }
 ],
 "metadata": {
  "kernelspec": {
   "display_name": "Python 3 (ipykernel)",
   "language": "python",
   "name": "python3"
  },
  "language_info": {
   "codemirror_mode": {
    "name": "ipython",
    "version": 3
   },
   "file_extension": ".py",
   "mimetype": "text/x-python",
   "name": "python",
   "nbconvert_exporter": "python",
   "pygments_lexer": "ipython3",
   "version": "3.9.7"
  }
 },
 "nbformat": 4,
 "nbformat_minor": 5
}
